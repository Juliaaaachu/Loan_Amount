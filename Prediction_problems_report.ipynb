{
 "cells": [
  {
   "cell_type": "raw",
   "id": "2d08f12d",
   "metadata": {},
   "source": [
    "---\n",
    "title: \"Prediction problems: Report\"\n",
    "format: \n",
    "  html:\n",
    "    toc: true\n",
    "    toc-title: Contents\n",
    "    toc-depth: 4\n",
    "    code-fold: show\n",
    "    self-contained: true\n",
    "    html-math-method: mathml \n",
    "jupyter: python3\n",
    "---"
   ]
  },
  {
   "cell_type": "markdown",
   "id": "6efe6ec7",
   "metadata": {},
   "source": [
    "## Instructions {-}\n",
    "\n",
    "1. This is the template you may use to submit your code and report for the prediction problems on linear and logistic regression.\n",
    "\n",
    "2. You may modify the template if you deem fit, but it should have the information asked below."
   ]
  },
  {
   "cell_type": "markdown",
   "id": "bceeb191",
   "metadata": {},
   "source": [
    "# A) Prediction problem: Linear regression"
   ]
  },
  {
   "cell_type": "markdown",
   "id": "b1608757",
   "metadata": {},
   "source": [
    "## A.1) Exploratory data analysis"
   ]
  },
  {
   "cell_type": "markdown",
   "id": "761fff41",
   "metadata": {},
   "source": [
    "Mention any major insights you obtained from the data, which you used to develop the model. You need not put any code or visualizations here.\n",
    "\n",
    "- Insight 1\n",
    "- Insight 2\n",
    "- ........."
   ]
  },
  {
   "cell_type": "markdown",
   "id": "93d691ac",
   "metadata": {},
   "source": [
    "## A.2) Data cleaning / preparation"
   ]
  },
  {
   "cell_type": "markdown",
   "id": "2aaaaea5",
   "metadata": {},
   "source": [
    "Mention the data cleaning / preparation steps taken to prepare your data for developing the model. This may include imputing missing values, creating dummy variables, combining levels of categorical variable(s), discarding predictors that are not useful, etc."
   ]
  },
  {
   "attachments": {},
   "cell_type": "markdown",
   "id": "99c88d20",
   "metadata": {},
   "source": [
    "#Handling missing values\n",
    "-> filling in with mean?"
   ]
  },
  {
   "cell_type": "code",
   "execution_count": 2,
   "id": "37df5e7a",
   "metadata": {},
   "outputs": [],
   "source": [
    "# Put your data cleaning/preparation code with comments here\n",
    "# The code should begin from reading the train data\n",
    "# The code should end when you obtain the data used to develop the model in A.4"
   ]
  },
  {
   "cell_type": "markdown",
   "id": "cd58e2ad",
   "metadata": {},
   "source": [
    "## A.3) Developing the model"
   ]
  },
  {
   "cell_type": "markdown",
   "id": "84e72c68",
   "metadata": {},
   "source": [
    "Mention the logical sequence of steps taken to obtain the final model. This may include identifying transformations, significant interactions, variable selection, etc. You need not put any code in this section.\n",
    "\n",
    "- Step 1\n",
    "- Step 2\n",
    "- ........."
   ]
  },
  {
   "cell_type": "markdown",
   "id": "c148744c",
   "metadata": {},
   "source": [
    "## A.4) Model equation"
   ]
  },
  {
   "cell_type": "markdown",
   "id": "76ef6e03",
   "metadata": {},
   "source": [
    "Put your model equation here."
   ]
  },
  {
   "cell_type": "code",
   "execution_count": 3,
   "id": "8ba3b92c",
   "metadata": {},
   "outputs": [],
   "source": [
    "# Put the code that develops the model using the data you obtained in A.2, \n",
    "# and then uses the developed model on test data for prediction."
   ]
  },
  {
   "cell_type": "markdown",
   "id": "3308993d",
   "metadata": {},
   "source": [
    "We'll execute your code in Sections A.2 and A.4 sequentially, and it must produce the RMSE that you have claimed on Kaggle."
   ]
  },
  {
   "cell_type": "markdown",
   "id": "41b1dfc3",
   "metadata": {},
   "source": [
    "# B) Prediction problem: Logistic regression"
   ]
  },
  {
   "cell_type": "markdown",
   "id": "b71c2e89",
   "metadata": {},
   "source": [
    "The answers to this section may have a lot of overlap with those of the previous section. That's fine! However, please provide complete answers to this section."
   ]
  },
  {
   "cell_type": "markdown",
   "id": "9ff1f9b4",
   "metadata": {},
   "source": [
    "## B.1) Exploratory data analysis"
   ]
  },
  {
   "cell_type": "markdown",
   "id": "e188d0c6",
   "metadata": {},
   "source": [
    "Mention any major insights you obtained from the data, which you used to develop the logistic regression model. You need not put any code or visualizations here.\n",
    "\n",
    "- Insight 1\n",
    "- Insight 2\n",
    "- ........."
   ]
  },
  {
   "cell_type": "markdown",
   "id": "b79b1213",
   "metadata": {},
   "source": [
    "## B.2) Data cleaning / preparation"
   ]
  },
  {
   "cell_type": "markdown",
   "id": "91c39eab",
   "metadata": {},
   "source": [
    "Mention the data cleaning / preparation steps taken to prepare your data for developing the model. This may include imputing missing values, creating dummy variables, combining levels of categorical variable(s), discarding predictors that are not useful, etc."
   ]
  },
  {
   "cell_type": "code",
   "execution_count": 2,
   "id": "3e84ce11",
   "metadata": {},
   "outputs": [],
   "source": [
    "# Put your data cleaning/preparation code with comments here\n",
    "# The code should begin from reading the train_classification data\n",
    "# The code should end when you obtain the data used to develop the model in B.4"
   ]
  },
  {
   "cell_type": "markdown",
   "id": "da84b68c",
   "metadata": {},
   "source": [
    "## B.3) Developing the model"
   ]
  },
  {
   "cell_type": "markdown",
   "id": "5b339172",
   "metadata": {},
   "source": [
    "Mention the logical sequence of steps taken to obtain the final model. This may include identifying transformations, significant interactions, variable selection, etc. You need not put any code in this section.\n",
    "\n",
    "- Step 1\n",
    "- Step 2\n",
    "- ........."
   ]
  },
  {
   "cell_type": "markdown",
   "id": "6820b769",
   "metadata": {},
   "source": [
    "## B.4) Model equation"
   ]
  },
  {
   "cell_type": "markdown",
   "id": "3c403034",
   "metadata": {},
   "source": [
    "Put your model equation here."
   ]
  },
  {
   "cell_type": "code",
   "execution_count": 3,
   "id": "2a5a18b5",
   "metadata": {},
   "outputs": [],
   "source": [
    "# Put the code that develops the model using the data you obtained in B.2, \n",
    "# and then uses the developed model on test_classification data for prediction."
   ]
  },
  {
   "cell_type": "markdown",
   "id": "93ad19c2",
   "metadata": {},
   "source": [
    "We'll execute your code in Sections B.2 and B.4 sequentially, and it must produce the classification accuracy that you have claimed on Kaggle."
   ]
  }
 ],
 "metadata": {
  "kernelspec": {
   "display_name": "Python 3",
   "language": "python",
   "name": "python3"
  },
  "language_info": {
   "codemirror_mode": {
    "name": "ipython",
    "version": 3
   },
   "file_extension": ".py",
   "mimetype": "text/x-python",
   "name": "python",
   "nbconvert_exporter": "python",
   "pygments_lexer": "ipython3",
   "version": "3.10.4"
  },
  "vscode": {
   "interpreter": {
    "hash": "7e1998ff7f8aa20ada591c520b972326324e5ea05489af9e422744c7c09f6dad"
   }
  }
 },
 "nbformat": 4,
 "nbformat_minor": 5
}
