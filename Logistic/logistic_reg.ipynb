{
 "cells": [
  {
   "cell_type": "code",
   "execution_count": 41,
   "metadata": {},
   "outputs": [],
   "source": [
    "import pandas as pd\n",
    "import numpy as np\n",
    "import seaborn as sns\n",
    "import matplotlib.pyplot as plt\n",
    "import statsmodels.formula.api as sm\n",
    "\n",
    "from datetime import datetime\n",
    "dateparse = lambda x: datetime.strptime(x, '%b-%y')\n",
    "dateparse2 = lambda x: datetime.strptime(x, '%y-%b')"
   ]
  },
  {
   "cell_type": "code",
   "execution_count": 42,
   "metadata": {},
   "outputs": [],
   "source": [
    "train = pd.read_csv(\"train_classification.csv\", parse_dates={'last_credit_pull_d2': ['last_credit_pull_d']}, date_parser=dateparse)\n",
    "test = pd.read_csv(\"test_classification.csv\", parse_dates={'last_credit_pull_d2': ['last_credit_pull_d']}, date_parser=dateparse2)\n"
   ]
  },
  {
   "attachments": {},
   "cell_type": "markdown",
   "metadata": {},
   "source": [
    "### Output Variable: \n",
    "`hi_int_prncp_pd`: binary indicator for whether a high percent of the loan repayments went to interest, rather than principal. Coded as an integer (0 = No, 1 = Yes). This is the target variable.\n"
   ]
  },
  {
   "cell_type": "code",
   "execution_count": 43,
   "metadata": {},
   "outputs": [
    {
     "data": {
      "text/plain": [
       "Index(['last_credit_pull_d2', 'id', 'hi_int_prncp_pd', 'acc_now_delinq',\n",
       "       'acc_open_past_24mths', 'addr_state', 'annual_inc', 'application_type',\n",
       "       'avg_cur_bal', 'bc_util', 'delinq_2yrs', 'delinq_amnt', 'dti',\n",
       "       'earliest_cr_line', 'emp_length', 'emp_title', 'grade',\n",
       "       'home_ownership', 'initial_list_status', 'int_rate', 'loan_amnt',\n",
       "       'mort_acc', 'num_sats', 'num_tl_120dpd_2m', 'num_tl_90g_dpd_24m',\n",
       "       'num_tl_30dpd', 'out_prncp_inv', 'pub_rec', 'pub_rec_bankruptcies',\n",
       "       'purpose', 'sub_grade', 'term', 'tot_coll_amt', 'tot_cur_bal',\n",
       "       'total_rec_late_fee', 'verification_status'],\n",
       "      dtype='object')"
      ]
     },
     "execution_count": 43,
     "metadata": {},
     "output_type": "execute_result"
    }
   ],
   "source": [
    "train.columns"
   ]
  },
  {
   "cell_type": "code",
   "execution_count": 44,
   "metadata": {},
   "outputs": [
    {
     "data": {
      "text/html": [
       "<div>\n",
       "<style scoped>\n",
       "    .dataframe tbody tr th:only-of-type {\n",
       "        vertical-align: middle;\n",
       "    }\n",
       "\n",
       "    .dataframe tbody tr th {\n",
       "        vertical-align: top;\n",
       "    }\n",
       "\n",
       "    .dataframe thead th {\n",
       "        text-align: right;\n",
       "    }\n",
       "</style>\n",
       "<table border=\"1\" class=\"dataframe\">\n",
       "  <thead>\n",
       "    <tr style=\"text-align: right;\">\n",
       "      <th></th>\n",
       "      <th>last_credit_pull_d2</th>\n",
       "      <th>id</th>\n",
       "      <th>hi_int_prncp_pd</th>\n",
       "      <th>acc_now_delinq</th>\n",
       "      <th>acc_open_past_24mths</th>\n",
       "      <th>addr_state</th>\n",
       "      <th>annual_inc</th>\n",
       "      <th>application_type</th>\n",
       "      <th>avg_cur_bal</th>\n",
       "      <th>bc_util</th>\n",
       "      <th>...</th>\n",
       "      <th>out_prncp_inv</th>\n",
       "      <th>pub_rec</th>\n",
       "      <th>pub_rec_bankruptcies</th>\n",
       "      <th>purpose</th>\n",
       "      <th>sub_grade</th>\n",
       "      <th>term</th>\n",
       "      <th>tot_coll_amt</th>\n",
       "      <th>tot_cur_bal</th>\n",
       "      <th>total_rec_late_fee</th>\n",
       "      <th>verification_status</th>\n",
       "    </tr>\n",
       "  </thead>\n",
       "  <tbody>\n",
       "    <tr>\n",
       "      <th>0</th>\n",
       "      <td>2017-02-01</td>\n",
       "      <td>3819</td>\n",
       "      <td>0</td>\n",
       "      <td>0</td>\n",
       "      <td>7</td>\n",
       "      <td>VA</td>\n",
       "      <td>36000.0</td>\n",
       "      <td>Individual</td>\n",
       "      <td>1987</td>\n",
       "      <td>53.6</td>\n",
       "      <td>...</td>\n",
       "      <td>0.00</td>\n",
       "      <td>0</td>\n",
       "      <td>0</td>\n",
       "      <td>debt_consolidation</td>\n",
       "      <td>D1</td>\n",
       "      <td>60 months</td>\n",
       "      <td>66</td>\n",
       "      <td>29807</td>\n",
       "      <td>0.0</td>\n",
       "      <td>Source Verified</td>\n",
       "    </tr>\n",
       "    <tr>\n",
       "      <th>1</th>\n",
       "      <td>2019-02-01</td>\n",
       "      <td>3820</td>\n",
       "      <td>0</td>\n",
       "      <td>0</td>\n",
       "      <td>2</td>\n",
       "      <td>WV</td>\n",
       "      <td>95000.0</td>\n",
       "      <td>Individual</td>\n",
       "      <td>7152</td>\n",
       "      <td>87.1</td>\n",
       "      <td>...</td>\n",
       "      <td>0.00</td>\n",
       "      <td>1</td>\n",
       "      <td>1</td>\n",
       "      <td>credit_card</td>\n",
       "      <td>D2</td>\n",
       "      <td>60 months</td>\n",
       "      <td>0</td>\n",
       "      <td>64366</td>\n",
       "      <td>0.0</td>\n",
       "      <td>Verified</td>\n",
       "    </tr>\n",
       "    <tr>\n",
       "      <th>2</th>\n",
       "      <td>2019-02-01</td>\n",
       "      <td>3821</td>\n",
       "      <td>1</td>\n",
       "      <td>0</td>\n",
       "      <td>2</td>\n",
       "      <td>IL</td>\n",
       "      <td>80000.0</td>\n",
       "      <td>Individual</td>\n",
       "      <td>15316</td>\n",
       "      <td>57.7</td>\n",
       "      <td>...</td>\n",
       "      <td>9099.27</td>\n",
       "      <td>0</td>\n",
       "      <td>0</td>\n",
       "      <td>debt_consolidation</td>\n",
       "      <td>C1</td>\n",
       "      <td>60 months</td>\n",
       "      <td>168</td>\n",
       "      <td>183792</td>\n",
       "      <td>0.0</td>\n",
       "      <td>Not Verified</td>\n",
       "    </tr>\n",
       "    <tr>\n",
       "      <th>3</th>\n",
       "      <td>2019-02-01</td>\n",
       "      <td>3822</td>\n",
       "      <td>0</td>\n",
       "      <td>0</td>\n",
       "      <td>2</td>\n",
       "      <td>CA</td>\n",
       "      <td>35000.0</td>\n",
       "      <td>Individual</td>\n",
       "      <td>7911</td>\n",
       "      <td>9.4</td>\n",
       "      <td>...</td>\n",
       "      <td>0.00</td>\n",
       "      <td>0</td>\n",
       "      <td>0</td>\n",
       "      <td>debt_consolidation</td>\n",
       "      <td>A2</td>\n",
       "      <td>36 months</td>\n",
       "      <td>0</td>\n",
       "      <td>31645</td>\n",
       "      <td>0.0</td>\n",
       "      <td>Source Verified</td>\n",
       "    </tr>\n",
       "    <tr>\n",
       "      <th>4</th>\n",
       "      <td>2017-06-01</td>\n",
       "      <td>3823</td>\n",
       "      <td>0</td>\n",
       "      <td>0</td>\n",
       "      <td>14</td>\n",
       "      <td>IL</td>\n",
       "      <td>63000.0</td>\n",
       "      <td>Individual</td>\n",
       "      <td>4717</td>\n",
       "      <td>70.3</td>\n",
       "      <td>...</td>\n",
       "      <td>0.00</td>\n",
       "      <td>0</td>\n",
       "      <td>0</td>\n",
       "      <td>debt_consolidation</td>\n",
       "      <td>E2</td>\n",
       "      <td>60 months</td>\n",
       "      <td>0</td>\n",
       "      <td>47171</td>\n",
       "      <td>0.0</td>\n",
       "      <td>Source Verified</td>\n",
       "    </tr>\n",
       "  </tbody>\n",
       "</table>\n",
       "<p>5 rows × 36 columns</p>\n",
       "</div>"
      ],
      "text/plain": [
       "  last_credit_pull_d2    id  hi_int_prncp_pd  acc_now_delinq  \\\n",
       "0          2017-02-01  3819                0               0   \n",
       "1          2019-02-01  3820                0               0   \n",
       "2          2019-02-01  3821                1               0   \n",
       "3          2019-02-01  3822                0               0   \n",
       "4          2017-06-01  3823                0               0   \n",
       "\n",
       "   acc_open_past_24mths addr_state  annual_inc application_type  avg_cur_bal  \\\n",
       "0                     7         VA     36000.0       Individual         1987   \n",
       "1                     2         WV     95000.0       Individual         7152   \n",
       "2                     2         IL     80000.0       Individual        15316   \n",
       "3                     2         CA     35000.0       Individual         7911   \n",
       "4                    14         IL     63000.0       Individual         4717   \n",
       "\n",
       "   bc_util  ...  out_prncp_inv  pub_rec  pub_rec_bankruptcies  \\\n",
       "0     53.6  ...           0.00        0                     0   \n",
       "1     87.1  ...           0.00        1                     1   \n",
       "2     57.7  ...        9099.27        0                     0   \n",
       "3      9.4  ...           0.00        0                     0   \n",
       "4     70.3  ...           0.00        0                     0   \n",
       "\n",
       "              purpose sub_grade       term tot_coll_amt tot_cur_bal  \\\n",
       "0  debt_consolidation        D1  60 months           66       29807   \n",
       "1         credit_card        D2  60 months            0       64366   \n",
       "2  debt_consolidation        C1  60 months          168      183792   \n",
       "3  debt_consolidation        A2  36 months            0       31645   \n",
       "4  debt_consolidation        E2  60 months            0       47171   \n",
       "\n",
       "  total_rec_late_fee  verification_status  \n",
       "0                0.0      Source Verified  \n",
       "1                0.0             Verified  \n",
       "2                0.0         Not Verified  \n",
       "3                0.0      Source Verified  \n",
       "4                0.0      Source Verified  \n",
       "\n",
       "[5 rows x 36 columns]"
      ]
     },
     "execution_count": 44,
     "metadata": {},
     "output_type": "execute_result"
    }
   ],
   "source": [
    "train.head()"
   ]
  },
  {
   "cell_type": "code",
   "execution_count": 45,
   "metadata": {},
   "outputs": [
    {
     "data": {
      "text/plain": [
       "last_credit_pull_d2     0\n",
       "id                      0\n",
       "hi_int_prncp_pd         0\n",
       "acc_now_delinq          0\n",
       "acc_open_past_24mths    0\n",
       "addr_state              0\n",
       "annual_inc              0\n",
       "application_type        0\n",
       "avg_cur_bal             0\n",
       "bc_util                 0\n",
       "delinq_2yrs             0\n",
       "delinq_amnt             0\n",
       "dti                     0\n",
       "earliest_cr_line        0\n",
       "emp_length              1\n",
       "emp_title               0\n",
       "grade                   0\n",
       "home_ownership          0\n",
       "initial_list_status     0\n",
       "int_rate                0\n",
       "loan_amnt               0\n",
       "mort_acc                0\n",
       "num_sats                0\n",
       "num_tl_120dpd_2m        0\n",
       "num_tl_90g_dpd_24m      0\n",
       "num_tl_30dpd            0\n",
       "out_prncp_inv           0\n",
       "pub_rec                 0\n",
       "pub_rec_bankruptcies    0\n",
       "purpose                 0\n",
       "sub_grade               0\n",
       "term                    0\n",
       "tot_coll_amt            0\n",
       "tot_cur_bal             0\n",
       "total_rec_late_fee      0\n",
       "verification_status     0\n",
       "dtype: int64"
      ]
     },
     "execution_count": 45,
     "metadata": {},
     "output_type": "execute_result"
    }
   ],
   "source": [
    "#Check missing data: no missing data\n",
    "train.isnull().sum()"
   ]
  },
  {
   "cell_type": "code",
   "execution_count": 46,
   "metadata": {},
   "outputs": [],
   "source": [
    "def transform(data):\n",
    "    #cleaning term\n",
    "    data['term'] = data['term'].str.replace('months', '')\n",
    "\n",
    "    #cleaning emp_length\n",
    "    #fill the only 1 na with 0 \n",
    "    data['emp_length'] = data['emp_length'].str.replace('< 1 year', '0', regex=True)\n",
    "    data['emp_length'] = data['emp_length'].str.replace('years', '', regex=True)\n",
    "    data['emp_length'] = data['emp_length'].str.replace('year', '', regex=True)    \n",
    "    data['emp_length'] = data['emp_length'].str.replace('+', '', regex=True)\n",
    "    data['emp_length'] = data['emp_length'].str.replace(' ', '', regex=True)\n",
    "\n",
    "    data['emp_length'] = data['emp_length'].fillna(0)\n",
    "    \n",
    "    data['emp_length'] = data['emp_length'].astype('int')\n",
    "\n",
    "    ### binning employment title column '\n",
    "    # count the value occurrences in column A\n",
    "    value_counts = data['emp_title'].value_counts()\n",
    "    # identify values with count <= 2\n",
    "    values_to_change1 = value_counts[value_counts <= 2].index.tolist()\n",
    "    # replace the identified values with a new value (e.g., -1)\n",
    "    data.loc[data['emp_title'].isin(values_to_change1), 'emp_title'] = 'other1'\n",
    "    \n",
    "    values_to_change2 = value_counts[value_counts <= 5].index.tolist()\n",
    "    data.loc[data['emp_title'].isin(values_to_change2), 'emp_title'] = 'other2'\n",
    "\n",
    "transform(train)\n",
    "transform(test)"
   ]
  },
  {
   "cell_type": "code",
   "execution_count": 47,
   "metadata": {},
   "outputs": [
    {
     "data": {
      "text/plain": [
       "0    3334\n",
       "1    2444\n",
       "Name: out_prncp_inv_categorical, dtype: int64"
      ]
     },
     "metadata": {},
     "output_type": "display_data"
    },
    {
     "data": {
      "image/png": "[encoded data removed]",
      "text/plain": [
       "<Figure size 432x288 with 1 Axes>"
      ]
     },
     "metadata": {
      "needs_background": "light"
     },
     "output_type": "display_data"
    }
   ],
   "source": [
    "def out_prncp_tranform(data):\n",
    "    data[\"out_prncp_inv_categorical\"] = 0\n",
    "    data.loc[data['out_prncp_inv']> 0, 'out_prncp_inv_categorical'] = 1\n",
    "\n",
    "out_prncp_tranform(train)\n",
    "out_prncp_tranform(test)\n",
    "\n",
    "sns.boxplot(y = train['hi_int_prncp_pd'], x = train['out_prncp_inv_categorical'])\n",
    "display(train.out_prncp_inv_categorical.value_counts())"
   ]
  },
  {
   "cell_type": "code",
   "execution_count": 48,
   "metadata": {},
   "outputs": [],
   "source": [
    "import re\n",
    "\n",
    "def monthly_payment(principle, rate, time):\n",
    "    '''\n",
    "    https://www.mymove.com/mortgage/mortgage-calculation/\n",
    "    '''\n",
    "    exponential_term = np.power(1 + rate, time)\n",
    "\n",
    "    return principle * rate * exponential_term / (exponential_term - 1)\n",
    "\n",
    "def remaining_time(monthly_payment, int_rate, out_prncp_inv):\n",
    "\n",
    "    '''\n",
    "    https://finance.zacks.com/figure-out-much-left-mortgage-9287.html\n",
    "    :param monthly_payment:\n",
    "    :param int_rate:\n",
    "    :param out_prncp_inv:\n",
    "    :return:\n",
    "    '''\n",
    "\n",
    "    return -np.log(1 - out_prncp_inv * int_rate / monthly_payment) / np.log(1 + int_rate)\n",
    "\n",
    "def pipeline(df: pd.DataFrame):\n",
    "\n",
    "    regex = re.compile(\"[\\d]+\")\n",
    "\n",
    "    df['term in months'] = df['term'].apply(lambda x: int(regex.findall(x)[0]))\n",
    "    df['monthly interest rate'] = df['int_rate'] / 100 / 12\n",
    "\n",
    "    df['monthly_payment'] = df[['loan_amnt', 'monthly interest rate', 'term in months']].apply(\n",
    "        lambda x: monthly_payment(x[0], x[1], x[2]), axis=1)\n",
    "\n",
    "    df['paid_princp_inv'] = df['loan_amnt'] - df['out_prncp_inv']\n",
    "    df['duration'] =  df[['monthly_payment', 'monthly interest rate', 'paid_princp_inv']].apply(\n",
    "        lambda x: remaining_time(x[0], x[1], x[2]), axis=1)\n",
    "\n",
    "    df['remaining time'] = df[['monthly_payment', 'monthly interest rate', 'out_prncp_inv']].apply(\n",
    "        lambda x: remaining_time(x[0], x[1], x[2]), axis=1)\n",
    "\n",
    "    # Simple will be paid\n",
    "    df.loc[~np.isinf(df['remaining time']), 'will be paid'] = df.loc[~np.isinf(\n",
    "        df['remaining time']), 'remaining time'] * df.loc[~np.isinf(\n",
    "        df['remaining time']), 'monthly_payment']\n",
    "\n",
    "    df['will be paid'].fillna(0, inplace=True)\n",
    "\n",
    "    # adjusted with interest rate\n",
    "    df['remaining time to end'] = df['term in months'] - df['duration']\n",
    "    return df\n",
    "\n",
    "train_feature = pipeline(train)\n",
    "test_feature = pipeline(test)\n",
    "\n",
    "# display(train_feature.shape)\n",
    "# display(test_feature.shape)"
   ]
  },
  {
   "attachments": {},
   "cell_type": "markdown",
   "metadata": {},
   "source": [
    "## MODEL"
   ]
  },
  {
   "cell_type": "code",
   "execution_count": 49,
   "metadata": {},
   "outputs": [],
   "source": [
    "from sklearn.preprocessing import PolynomialFeatures\n",
    "import statsmodels.api as sm\n",
    "\n",
    "X = train_feature[['out_prncp_inv', 'int_rate', 'monthly_payment', 'remaining time', 'remaining time to end']]\n",
    "y = train_feature['hi_int_prncp_pd'].reset_index(drop=True)\n",
    "\n",
    "poly = PolynomialFeatures(3, interaction_only=False, include_bias=False)\n",
    "X = poly.fit_transform(X)\n",
    "X = pd.DataFrame(data=X, columns = poly.get_feature_names_out())\n",
    "\n",
    "X['out_prncp_inv_categorical'] = train_feature['out_prncp_inv_categorical']"
   ]
  },
  {
   "cell_type": "code",
   "execution_count": 50,
   "metadata": {},
   "outputs": [
    {
     "name": "stdout",
     "output_type": "stream",
     "text": [
      "Optimization terminated successfully.\n",
      "         Current function value: 0.196242\n",
      "         Iterations 12\n"
     ]
    }
   ],
   "source": [
    "#https://www.statsmodels.org/dev/discretemod.html\n",
    "\n",
    "logit_model = sm.Logit(y, X).fit()\n",
    "logit_model.summary()\n",
    "\n",
    "prediction_train_feat = logit_model.predict(X) "
   ]
  },
  {
   "attachments": {},
   "cell_type": "markdown",
   "metadata": {},
   "source": [
    "## PREDICTIONS"
   ]
  },
  {
   "attachments": {},
   "cell_type": "markdown",
   "metadata": {},
   "source": [
    "### Predict on Train Data"
   ]
  },
  {
   "cell_type": "code",
   "execution_count": 51,
   "metadata": {},
   "outputs": [
    {
     "data": {
      "text/html": [
       "<div>\n",
       "<style scoped>\n",
       "    .dataframe tbody tr th:only-of-type {\n",
       "        vertical-align: middle;\n",
       "    }\n",
       "\n",
       "    .dataframe tbody tr th {\n",
       "        vertical-align: top;\n",
       "    }\n",
       "\n",
       "    .dataframe thead th {\n",
       "        text-align: right;\n",
       "    }\n",
       "</style>\n",
       "<table border=\"1\" class=\"dataframe\">\n",
       "  <thead>\n",
       "    <tr style=\"text-align: right;\">\n",
       "      <th></th>\n",
       "      <th>out_prncp_inv</th>\n",
       "      <th>int_rate</th>\n",
       "      <th>monthly_payment</th>\n",
       "      <th>remaining time</th>\n",
       "      <th>remaining time to end</th>\n",
       "      <th>out_prncp_inv^2</th>\n",
       "      <th>out_prncp_inv int_rate</th>\n",
       "      <th>out_prncp_inv monthly_payment</th>\n",
       "      <th>out_prncp_inv remaining time</th>\n",
       "      <th>out_prncp_inv remaining time to end</th>\n",
       "      <th>...</th>\n",
       "      <th>monthly_payment^2 remaining time</th>\n",
       "      <th>monthly_payment^2 remaining time to end</th>\n",
       "      <th>monthly_payment remaining time^2</th>\n",
       "      <th>monthly_payment remaining time remaining time to end</th>\n",
       "      <th>monthly_payment remaining time to end^2</th>\n",
       "      <th>remaining time^3</th>\n",
       "      <th>remaining time^2 remaining time to end</th>\n",
       "      <th>remaining time remaining time to end^2</th>\n",
       "      <th>remaining time to end^3</th>\n",
       "      <th>out_prncp_inv_categorical</th>\n",
       "    </tr>\n",
       "  </thead>\n",
       "  <tbody>\n",
       "    <tr>\n",
       "      <th>0</th>\n",
       "      <td>0.0</td>\n",
       "      <td>6.49</td>\n",
       "      <td>459.666772</td>\n",
       "      <td>-0.0</td>\n",
       "      <td>1.421085e-14</td>\n",
       "      <td>0.0</td>\n",
       "      <td>0.0</td>\n",
       "      <td>0.0</td>\n",
       "      <td>-0.0</td>\n",
       "      <td>0.0</td>\n",
       "      <td>...</td>\n",
       "      <td>-0.0</td>\n",
       "      <td>3.002662e-09</td>\n",
       "      <td>0.0</td>\n",
       "      <td>-0.0</td>\n",
       "      <td>9.282897e-26</td>\n",
       "      <td>-0.0</td>\n",
       "      <td>0.0</td>\n",
       "      <td>-0.0</td>\n",
       "      <td>2.869859e-42</td>\n",
       "      <td>0</td>\n",
       "    </tr>\n",
       "    <tr>\n",
       "      <th>1</th>\n",
       "      <td>0.0</td>\n",
       "      <td>5.32</td>\n",
       "      <td>210.803469</td>\n",
       "      <td>-0.0</td>\n",
       "      <td>0.000000e+00</td>\n",
       "      <td>0.0</td>\n",
       "      <td>0.0</td>\n",
       "      <td>0.0</td>\n",
       "      <td>-0.0</td>\n",
       "      <td>0.0</td>\n",
       "      <td>...</td>\n",
       "      <td>-0.0</td>\n",
       "      <td>0.000000e+00</td>\n",
       "      <td>0.0</td>\n",
       "      <td>-0.0</td>\n",
       "      <td>0.000000e+00</td>\n",
       "      <td>-0.0</td>\n",
       "      <td>0.0</td>\n",
       "      <td>-0.0</td>\n",
       "      <td>0.000000e+00</td>\n",
       "      <td>0</td>\n",
       "    </tr>\n",
       "  </tbody>\n",
       "</table>\n",
       "<p>2 rows × 56 columns</p>\n",
       "</div>"
      ],
      "text/plain": [
       "   out_prncp_inv  int_rate  monthly_payment  remaining time  \\\n",
       "0            0.0      6.49       459.666772            -0.0   \n",
       "1            0.0      5.32       210.803469            -0.0   \n",
       "\n",
       "   remaining time to end  out_prncp_inv^2  out_prncp_inv int_rate  \\\n",
       "0           1.421085e-14              0.0                     0.0   \n",
       "1           0.000000e+00              0.0                     0.0   \n",
       "\n",
       "   out_prncp_inv monthly_payment  out_prncp_inv remaining time  \\\n",
       "0                            0.0                          -0.0   \n",
       "1                            0.0                          -0.0   \n",
       "\n",
       "   out_prncp_inv remaining time to end  ...  monthly_payment^2 remaining time  \\\n",
       "0                                  0.0  ...                              -0.0   \n",
       "1                                  0.0  ...                              -0.0   \n",
       "\n",
       "   monthly_payment^2 remaining time to end  monthly_payment remaining time^2  \\\n",
       "0                             3.002662e-09                               0.0   \n",
       "1                             0.000000e+00                               0.0   \n",
       "\n",
       "   monthly_payment remaining time remaining time to end  \\\n",
       "0                                               -0.0      \n",
       "1                                               -0.0      \n",
       "\n",
       "   monthly_payment remaining time to end^2  remaining time^3  \\\n",
       "0                             9.282897e-26              -0.0   \n",
       "1                             0.000000e+00              -0.0   \n",
       "\n",
       "   remaining time^2 remaining time to end  \\\n",
       "0                                     0.0   \n",
       "1                                     0.0   \n",
       "\n",
       "   remaining time remaining time to end^2  remaining time to end^3  \\\n",
       "0                                    -0.0             2.869859e-42   \n",
       "1                                    -0.0             0.000000e+00   \n",
       "\n",
       "   out_prncp_inv_categorical  \n",
       "0                          0  \n",
       "1                          0  \n",
       "\n",
       "[2 rows x 56 columns]"
      ]
     },
     "execution_count": 51,
     "metadata": {},
     "output_type": "execute_result"
    }
   ],
   "source": [
    "test_X = test_feature[['out_prncp_inv', 'int_rate', 'monthly_payment', 'remaining time', 'remaining time to end']]\n",
    "poly = PolynomialFeatures(3, interaction_only=False, include_bias=False)\n",
    "test_X = poly.fit_transform(test_X)\n",
    "test_X = pd.DataFrame(data=test_X, columns = poly.get_feature_names_out())\n",
    "test_X['out_prncp_inv_categorical'] = test_feature['out_prncp_inv_categorical']\n",
    "\n",
    "test_X.head(2)"
   ]
  },
  {
   "cell_type": "code",
   "execution_count": 67,
   "metadata": {},
   "outputs": [
    {
     "name": "stdout",
     "output_type": "stream",
     "text": [
      "Train Classification accuracy = 92.3%\n",
      "Train Classification Recall = 83.0%\n"
     ]
    },
    {
     "data": {
      "image/png": "[encoded data removed]",
      "text/plain": [
       "<Figure size 432x288 with 2 Axes>"
      ]
     },
     "metadata": {
      "needs_background": "light"
     },
     "output_type": "display_data"
    }
   ],
   "source": [
    "threshold = 0.39\n",
    "def confusion_matrix_train(model,cutoff=threshold):\n",
    "    # Confusion matrix\n",
    "    cm_df = pd.DataFrame(model.pred_table(threshold = cutoff))\n",
    "    #Formatting the confusion matrix\n",
    "    cm_df.columns = ['Predicted 0', 'Predicted 1'] \n",
    "    cm_df = cm_df.rename(index={0: 'Actual 0',1: 'Actual 1'})\n",
    "    cm = np.array(cm_df)\n",
    "    # Calculate the accuracy\n",
    "    accuracy = (cm[0,0]+cm[1,1])/cm.sum()\n",
    "    recall = (cm[1,1] / (cm[1,1] + cm[1,0]))\n",
    "    sns.heatmap(cm_df, annot=True, cmap='Blues', fmt='g')\n",
    "    plt.ylabel(\"Actual Values\")\n",
    "    plt.xlabel(\"Predicted Values\")\n",
    "    print(\"Train Classification accuracy = {:.1%}\".format(accuracy))\n",
    "    print(\"Train Classification Recall = {:.1%}\".format(recall))\n",
    "    return accuracy, recall\n",
    "\n",
    "train_accuracy, train_recall = confusion_matrix_train(logit_model)"
   ]
  },
  {
   "attachments": {},
   "cell_type": "markdown",
   "metadata": {},
   "source": [
    "#### Predict on Test Data"
   ]
  },
  {
   "cell_type": "code",
   "execution_count": 68,
   "metadata": {},
   "outputs": [
    {
     "data": {
      "text/plain": [
       "(3818,)"
      ]
     },
     "execution_count": 68,
     "metadata": {},
     "output_type": "execute_result"
    }
   ],
   "source": [
    "prediction_s_f = logit_model.predict(test_X)\n",
    "prediction_s_f.shape"
   ]
  },
  {
   "cell_type": "code",
   "execution_count": 69,
   "metadata": {},
   "outputs": [
    {
     "data": {
      "text/plain": [
       "(3818, 1)"
      ]
     },
     "execution_count": 69,
     "metadata": {},
     "output_type": "execute_result"
    }
   ],
   "source": [
    "# prediction = pd.DataFrame(prediction_s, columns=['Predicted'])\n",
    "prediction = pd.DataFrame(prediction_s_f, columns=['Category'])\n",
    "prediction.index = test.id\n",
    "prediction.index.name = 'id'\n",
    "\n",
    "prediction.shape"
   ]
  },
  {
   "cell_type": "code",
   "execution_count": 70,
   "metadata": {},
   "outputs": [],
   "source": [
    "#Change based on Threshold\n",
    "\n",
    "prediction['Category'] = np.where(prediction[\"Category\"]>= threshold, 1, 0)"
   ]
  },
  {
   "cell_type": "code",
   "execution_count": 71,
   "metadata": {},
   "outputs": [],
   "source": [
    "\n",
    "prediction.to_csv(r'/Users/juliachu/Dropbox/Northwestern/2022-2023/2.WQ/STAT 303-2/kaggle/Loan_Amount/Logistic/prediction.csv', header=True, index=True)"
   ]
  }
 ],
 "metadata": {
  "kernelspec": {
   "display_name": "Python 3",
   "language": "python",
   "name": "python3"
  },
  "language_info": {
   "codemirror_mode": {
    "name": "ipython",
    "version": 3
   },
   "file_extension": ".py",
   "mimetype": "text/x-python",
   "name": "python",
   "nbconvert_exporter": "python",
   "pygments_lexer": "ipython3",
   "version": "3.9.12"
  },
  "orig_nbformat": 4,
  "vscode": {
   "interpreter": {
    "hash": "511e2e4229bdf73f6a9bbb503e2d83b0eadb7dfa37821518ac6482ab18204c97"
   }
  }
 },
 "nbformat": 4,
 "nbformat_minor": 2
}
